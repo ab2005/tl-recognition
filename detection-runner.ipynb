{
 "cells": [
  {
   "cell_type": "code",
   "execution_count": null,
   "metadata": {
    "collapsed": true
   },
   "outputs": [],
   "source": [
    "import numpy as np\n",
    "import os\n",
    "import six.moves.urllib as urllib\n",
    "import sys\n",
    "import tarfile\n",
    "import tensorflow as tf\n",
    "import zipfile\n",
    "import json\n",
    "import time\n",
    "import glob\n",
    "\n",
    "from io import StringIO\n",
    "from PIL import Image\n",
    "\n",
    "import matplotlib.pyplot as plt\n",
    "\n",
    "from utils import visualization_utils as vis_util\n",
    "from utils import label_map_util\n",
    "\n",
    "from multiprocessing.dummy import Pool as ThreadPool\n",
    "\n"
   ]
  },
  {
   "cell_type": "code",
   "execution_count": null,
   "metadata": {
    "collapsed": true
   },
   "outputs": [],
   "source": [
    "MAX_NUMBER_OF_BOXES = 10\n",
    "MINIMUM_CONFIDENCE = 0.9\n",
    "\n",
    "PATH_TO_TEST_IMAGES_DIR = 'test_images'\n",
    "\n",
    "category_index = {\n",
    "    1: {'id': 1, 'name': 'Green'}, \n",
    "    2: {'id': 2, 'name': 'Red'}, \n",
    "    3: {'id': 3, 'name': 'GreenLeft'}, \n",
    "    4: {'id': 4, 'name': 'GreenRight'}, \n",
    "    5: {'id': 5, 'name': 'RedLeft'}, \n",
    "    6: {'id': 6, 'name': 'RedRight'}, \n",
    "    7: {'id': 7, 'name': 'Yellow'}, \n",
    "    8: {'id': 8, 'name': 'off'}, \n",
    "    9: {'id': 9, 'name': 'RedStraight'}, \n",
    "    10: {'id': 10, 'name': 'GreenStraight'}, \n",
    "    11: {'id': 11, 'name': 'GreenStraightLeft'}, \n",
    "    12: {'id': 12, 'name': 'GreenStraightRight'}, \n",
    "    13: {'id': 13, 'name': 'RedStraightLeft'}, \n",
    "    14: {'id': 14, 'name': 'RedStraightRight'}}\n",
    "\n",
    "# Path to frozen detection graph. This is the actual model that is used for the object detection.\n",
    "MODEL_NAME = 'output_inference_graph'\n",
    "PATH_TO_CKPT = MODEL_NAME + '/frozen_inference_graph.pb'\n",
    "\n",
    "def load_image_into_numpy_array(image):\n",
    "    (im_width, im_height) = image.size\n",
    "    return np.array(image.getdata()).reshape(\n",
    "        (im_height, im_width, 3)).astype(np.uint8)\n",
    "\n",
    "def detect_objects(image_path):\n",
    "    image = Image.open(image_path)\n",
    "    (im_width, im_height) = image.size\n",
    "    image_np = np.array(image.getdata()).reshape((im_height, im_width, 3)).astype(np.uint8)\n",
    "    image_np_expanded = np.expand_dims(image_np, axis=0)\n",
    "\n",
    "    (boxes, scores, classes, num) = sess.run([detection_boxes, detection_scores, detection_classes, num_detections], feed_dict={image_tensor: image_np_expanded})\n",
    "\n",
    "    vis_util.visualize_boxes_and_labels_on_image_array(\n",
    "        image_np,\n",
    "        np.squeeze(boxes),\n",
    "        np.squeeze(classes).astype(np.int32),\n",
    "        np.squeeze(scores),\n",
    "        category_index,\n",
    "        min_score_thresh=MINIMUM_CONFIDENCE,\n",
    "        use_normalized_coordinates=True,\n",
    "        line_thickness=8)\n",
    "    fig = plt.figure()\n",
    "    fig.set_size_inches(16, 9)\n",
    "    ax = plt.Axes(fig, [0., 0., 1., 1.])\n",
    "    ax.set_axis_off()\n",
    "    fig.add_axes(ax)\n",
    "\n",
    "    plt.imshow(image_np, aspect = 'normal')\n",
    "    plt.savefig('output/{}'.format(image_path), dpi = 62)\n",
    "    plt.close(fig)\n",
    "\n",
    "# TEST_IMAGE_PATHS = [ os.path.join(PATH_TO_TEST_IMAGES_DIR, 'image-{}.jpg'.format(i)) for i in range(1, 4) ]\n",
    "TEST_IMAGE_PATHS = glob.glob(os.path.join(PATH_TO_TEST_IMAGES_DIR, '*.jpg'))\n",
    "\n",
    "# Load model into memory\n",
    "print('Loading model...')\n",
    "detection_graph = tf.Graph()\n",
    "with detection_graph.as_default():\n",
    "    od_graph_def = tf.GraphDef()\n",
    "    with tf.gfile.GFile(PATH_TO_CKPT, 'rb') as fid:\n",
    "        serialized_graph = fid.read()\n",
    "        od_graph_def.ParseFromString(serialized_graph)\n",
    "        tf.import_graph_def(od_graph_def, name='')\n",
    "\n",
    "print('detecting...')\n",
    "with detection_graph.as_default():\n",
    "    with tf.Session(graph=detection_graph) as sess:\n",
    "        image_tensor = detection_graph.get_tensor_by_name('image_tensor:0')\n",
    "        detection_boxes = detection_graph.get_tensor_by_name('detection_boxes:0')\n",
    "        detection_scores = detection_graph.get_tensor_by_name('detection_scores:0')\n",
    "        detection_classes = detection_graph.get_tensor_by_name('detection_classes:0')\n",
    "        num_detections = detection_graph.get_tensor_by_name('num_detections:0')\n",
    "\n",
    "        for image_path in TEST_IMAGE_PATHS:\n",
    "            detect_objects(image_path)"
   ]
  },
  {
   "cell_type": "code",
   "execution_count": null,
   "metadata": {
    "collapsed": true
   },
   "outputs": [],
   "source": [
    "     random_adjust_brightness: (fields.InputDataFields.image,),\n",
    "      random_adjust_contrast: (fields.InputDataFields.image,),\n",
    "      random_adjust_hue: (fields.InputDataFields.image,),\n",
    "      random_adjust_saturation: (fields.InputDataFields.image,),\n",
    "      random_distort_color: (fields.InputDataFields.image,),\n",
    "      random_jitter_boxes: (fields.InputDataFields.groundtruth_boxes,),"
   ]
  }
 ],
 "metadata": {
  "kernelspec": {
   "display_name": "Python 3",
   "language": "python",
   "name": "python3"
  },
  "language_info": {
   "codemirror_mode": {
    "name": "ipython",
    "version": 3
   },
   "file_extension": ".py",
   "mimetype": "text/x-python",
   "name": "python",
   "nbconvert_exporter": "python",
   "pygments_lexer": "ipython3",
   "version": "3.5.2"
  },
  "widgets": {
   "state": {},
   "version": "1.1.2"
  }
 },
 "nbformat": 4,
 "nbformat_minor": 2
}
